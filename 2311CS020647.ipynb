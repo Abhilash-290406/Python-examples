{
 "cells": [
  {
   "cell_type": "markdown",
   "id": "2d61d925",
   "metadata": {},
   "source": [
    "# 1.Write a Program to declare a single value to single variable and display"
   ]
  },
  {
   "cell_type": "code",
   "execution_count": 1,
   "id": "a2b16b2d",
   "metadata": {},
   "outputs": [
    {
     "name": "stdout",
     "output_type": "stream",
     "text": [
      "THE DECLARED VALUE OF a is : 15\n",
      "THE DECLARED VALUE OF a is : 15 \n",
      "THE DECLARED VALUE OF a is : 15\n"
     ]
    }
   ],
   "source": [
    "a=15 # 15 Is assigned to the variable 'a'\n",
    "print('THE DECLARED VALUE OF a is :',a)\n",
    "print('THE DECLARED VALUE OF a is : {} '.format(a))\n",
    "print(f'THE DECLARED VALUE OF a is : {a}')"
   ]
  },
  {
   "cell_type": "markdown",
   "id": "c1810d5b",
   "metadata": {},
   "source": [
    "#  2.Write a Program to declare a single value to three variables and display."
   ]
  },
  {
   "cell_type": "code",
   "execution_count": 6,
   "id": "5296138a",
   "metadata": {},
   "outputs": [
    {
     "name": "stdout",
     "output_type": "stream",
     "text": [
      "THE DECLARED VALUE OF a,b,c is : 15\n",
      "THE DECLARED VALUE OF a,b,c is : 15 \n",
      "THE DECLARED VALUE OF a,b,c is : 15\n"
     ]
    }
   ],
   "source": [
    "a=15\n",
    "c=b=a\n",
    "# 15 Is assigned to the variable 'a,b,c' & value should be on right\n",
    "print('THE DECLARED VALUE OF a,b,c is :',c)\n",
    "print('THE DECLARED VALUE OF a,b,c is : {} '.format(c))\n",
    "print(f'THE DECLARED VALUE OF a,b,c is : {a}')"
   ]
  },
  {
   "cell_type": "markdown",
   "id": "77113c99",
   "metadata": {},
   "source": [
    "# 3.Write a Program to declare multiple values to multiple variables and display."
   ]
  },
  {
   "cell_type": "code",
   "execution_count": 7,
   "id": "50100d30",
   "metadata": {},
   "outputs": [
    {
     "name": "stdout",
     "output_type": "stream",
     "text": [
      "THE DECLARED VALUE OF a is :  10\n",
      "THE DECLARED VALUE OF a is : 10 \n",
      "THE DECLARED VALUE OF a is : 10\n",
      "THE DECLARED VALUE OF b is :  20.25\n",
      "THE DECLARED VALUE OF c is :  HOLA\n"
     ]
    }
   ],
   "source": [
    "a,b,c=10,20.25,'HOLA' \n",
    "# 10 Is assigned to the variable 'a'\n",
    "# 20.25 Is assigned to the variable 'b'\n",
    "# HOLA Is assigned to the variable 'c'\n",
    "print('THE DECLARED VALUE OF a is : ',a)\n",
    "print('THE DECLARED VALUE OF a is : {} '.format(a))\n",
    "print(f'THE DECLARED VALUE OF a is : {a}')\n",
    "print('THE DECLARED VALUE OF b is : ',b)\n",
    "print('THE DECLARED VALUE OF c is : ',c)"
   ]
  },
  {
   "cell_type": "markdown",
   "id": "b5dfe4c0",
   "metadata": {},
   "source": [
    "# 4.Write a Program to assign a single value to single variable by the user input and display."
   ]
  },
  {
   "cell_type": "code",
   "execution_count": 8,
   "id": "84c87454",
   "metadata": {},
   "outputs": [
    {
     "name": "stdout",
     "output_type": "stream",
     "text": [
      "VALUE OF a is : 52.6\n",
      "VALUE ASSIGNED BY USER FOR a IS: 52.6\n",
      "VALUE ASSIGNED BY USER FOR a IS: 52.6 \n",
      "VALUE ASSIGNED BY USER FOR a IS : 52.6\n"
     ]
    }
   ],
   "source": [
    "a=float(input('VALUE OF a is : ')) # User input will be assigned to the variable 'a'\n",
    "print('VALUE ASSIGNED BY USER FOR a IS:',a)\n",
    "print('VALUE ASSIGNED BY USER FOR a IS: {} '.format(a))\n",
    "print(f'VALUE ASSIGNED BY USER FOR a IS : {a}')"
   ]
  },
  {
   "cell_type": "markdown",
   "id": "9ca31bc0",
   "metadata": {},
   "source": [
    "# 5.Write a Program to assign a single value to three variables by the user input and display."
   ]
  },
  {
   "cell_type": "code",
   "execution_count": 10,
   "id": "b3808f56",
   "metadata": {},
   "outputs": [
    {
     "name": "stdout",
     "output_type": "stream",
     "text": [
      "VALUE : 524.65\n",
      "VALUE ASSIGNED BY USER FOR a IS: 524.650000\n",
      "VALUE ASSIGNED BY USER FOR a IS: 524.65 \n",
      "VALUE ASSIGNED BY USER FOR a IS : 524.65\n",
      "VALUE ASSIGNED BY USER FOR b IS: 524.65\n",
      "VALUE ASSIGNED BY USER FOR c IS: 524.65\n"
     ]
    }
   ],
   "source": [
    "a=b=c=float(input('VALUE : ')) # User input will be assigned to the variable 'a,b,c'\n",
    "print('VALUE ASSIGNED BY USER FOR a IS: %f'%a)\n",
    "print('VALUE ASSIGNED BY USER FOR a IS: {} '.format(a))\n",
    "print(f'VALUE ASSIGNED BY USER FOR a IS : {a}')\n",
    "print('VALUE ASSIGNED BY USER FOR b IS:',b)\n",
    "print('VALUE ASSIGNED BY USER FOR c IS:',c)"
   ]
  },
  {
   "cell_type": "markdown",
   "id": "a7aaad00",
   "metadata": {},
   "source": [
    "# 6. Write a Program to assign multiple values to multiple variables by the user input and display."
   ]
  },
  {
   "cell_type": "code",
   "execution_count": 12,
   "id": "b5056438",
   "metadata": {},
   "outputs": [
    {
     "name": "stdout",
     "output_type": "stream",
     "text": [
      "VALUE OF a is : 25.1\n",
      "VALUE ASSIGNED BY USER FOR a IS: 25.1\n",
      "VALUE OF b is : 365.2\n",
      "VALUE ASSIGNED BY USER FOR b IS:  365.2\n",
      "VALUE OF c is : 254.8\n",
      "VALUE ASSIGNED BY USER FOR c IS:254.800  \n",
      "THE DECLARED VALUE OF c is : 254.8 \n",
      "THE DECLARED VALUE OF c is : 254.8\n"
     ]
    }
   ],
   "source": [
    "a=float(input('VALUE OF a is : ')) # User input will be assigned to the variable 'a'\n",
    "print('VALUE ASSIGNED BY USER FOR a IS:',a)\n",
    "b=float(input('VALUE OF b is : ')) # User input will be assigned to the variable 'b'\n",
    "print('VALUE ASSIGNED BY USER FOR b IS: ',b)\n",
    "c=float(input('VALUE OF c is : ')) # User input will be assigned to the variable 'c'\n",
    "print('VALUE ASSIGNED BY USER FOR c IS:%2.3f  '%(c))\n",
    "print('THE DECLARED VALUE OF c is : {} '.format(c))\n",
    "print(f'THE DECLARED VALUE OF c is : {c}')"
   ]
  },
  {
   "cell_type": "markdown",
   "id": "ab15fc7f",
   "metadata": {},
   "source": [
    "# 7.Write a Program to declare the variables and values using all the rules of variable naming.\n",
    " "
   ]
  },
  {
   "cell_type": "code",
   "execution_count": 13,
   "id": "efcced9e",
   "metadata": {},
   "outputs": [
    {
     "name": "stdout",
     "output_type": "stream",
     "text": [
      "THE STATEMENT IS: PYTHON lab me kuch bhi ho saktha hai\n",
      "THE DECLARED String is : PYTHON lab me kuch bhi ho saktha hai \n",
      "THE DECLARED String is : PYTHON lab me kuch bhi ho saktha hai\n"
     ]
    }
   ],
   "source": [
    "Values_in_PYTHON_25='PYTHON lab me kuch bhi ho saktha hai' #basic rules of assignment in python\n",
    "print('THE STATEMENT IS: %s'%(Values_in_PYTHON_25))\n",
    "print('THE DECLARED String is : {} '.format(Values_in_PYTHON_25))\n",
    "print(f'THE DECLARED String is : {Values_in_PYTHON_25}')"
   ]
  },
  {
   "cell_type": "markdown",
   "id": "d248b467",
   "metadata": {},
   "source": [
    "# 8. Write a Program to display the string \"Python Programming\"."
   ]
  },
  {
   "cell_type": "code",
   "execution_count": 14,
   "id": "f1b5e4a7",
   "metadata": {},
   "outputs": [
    {
     "name": "stdout",
     "output_type": "stream",
     "text": [
      "Python Programming\n",
      "\n",
      "The statement is: Python programming\n",
      "THE DECLARED VALUE OF a is : Python programming \n",
      "THE DECLARED VALUE OF a is : Python programming\n"
     ]
    }
   ],
   "source": [
    "print('Python Programming') #string here is Python programming\n",
    "print()\n",
    "a='Python programming'\n",
    "print('The statement is: %s'%(a))\n",
    "print('THE DECLARED VALUE OF a is : {} '.format(a))\n",
    "print(f'THE DECLARED VALUE OF a is : {a}')"
   ]
  },
  {
   "cell_type": "markdown",
   "id": "e2e5e42d",
   "metadata": {},
   "source": [
    "# 9.Write a Program to display the user input string."
   ]
  },
  {
   "cell_type": "code",
   "execution_count": 15,
   "id": "e165b6fa",
   "metadata": {},
   "outputs": [
    {
     "name": "stdout",
     "output_type": "stream",
     "text": [
      "STRING is : Hola\n",
      "STRING GIVEN:  Hola\n",
      "THE DECLARED String OF a is : Hola \n",
      "THE DECLARED String OF a is : Hola\n"
     ]
    }
   ],
   "source": [
    "a=input('STRING is : ') #string input by user input\n",
    "print('STRING GIVEN: ',a)\n",
    "print('THE DECLARED String OF a is : {} '.format(a))\n",
    "print(f'THE DECLARED String OF a is : {a}')"
   ]
  },
  {
   "cell_type": "markdown",
   "id": "f8bca4d5",
   "metadata": {},
   "source": [
    "# 10. Write a Program to perform all arithmetic operations of two operands by the user input values and display the results.\n"
   ]
  },
  {
   "cell_type": "code",
   "execution_count": 16,
   "id": "5c994a5d",
   "metadata": {},
   "outputs": [
    {
     "name": "stdout",
     "output_type": "stream",
     "text": [
      "VALUE OF a IS: 2\n",
      "VALUE OF b IS: 5\n",
      "ADDITION OF a AND b is: 7\n",
      "ADDITION OF a AND b is: 5.0 \n",
      "ADDITION OF a AND b is: 5.0\n",
      "SUBSTRACTION OF a AND b is:-3 \n",
      "PRODUCT OF a AND b is:10 \n",
      "DIVISION OF a AND b is: 0\n",
      "FLOOR DIVISION OF a AND b is: 0\n",
      "MODULUS OF a AND b is: 2\n",
      "EXPONENTIAL OF a AND b is: 32 \n"
     ]
    }
   ],
   "source": [
    "a=float(input('VALUE OF a IS: '))\n",
    "b=float(input('VALUE OF b IS: '))\n",
    "c=a+b  #ADDITION OF a AND b\n",
    "d=a-b  #SUBSTRACTION OF a AND b\n",
    "e=a*b  #PRODUCT OF a AND b\n",
    "f=a/b  #DIVISION OF a AND b\n",
    "g=a//b #FLOOR DIVISION OF a AND b\n",
    "h=a%b  #MODULUS OF a AND b \n",
    "i=a**b #EXPONENTIAL OF a AND b\n",
    "print('ADDITION OF a AND b is: %i'%(c))\n",
    "print('ADDITION OF a AND b is: {} '.format(b))\n",
    "print(f'ADDITION OF a AND b is: {b}')\n",
    "print('SUBSTRACTION OF a AND b is:%d '%(d))\n",
    "print('PRODUCT OF a AND b is:%d '%(e))\n",
    "print('DIVISION OF a AND b is: %d'%(f))\n",
    "print('FLOOR DIVISION OF a AND b is: %d'%(g))\n",
    "print('MODULUS OF a AND b is: %d'%(h))\n",
    "print('EXPONENTIAL OF a AND b is: %i '%(i))"
   ]
  },
  {
   "cell_type": "markdown",
   "id": "3ea148a9",
   "metadata": {},
   "source": [
    "# 11. .Write a Program to convert the (i) int input to float and complex. (ii) float input to int and complex. (iii) complex input to int and float."
   ]
  },
  {
   "cell_type": "code",
   "execution_count": 19,
   "id": "76517cb3",
   "metadata": {},
   "outputs": [
    {
     "name": "stdout",
     "output_type": "stream",
     "text": [
      "VALUE OF a IS: 25\n",
      "THE FLOAT VALUE OF THE GIVEN INT IS:25.000000 \n",
      "THE FLOAT VALUE OF THE GIVEN INT IS: 25.0 \n",
      "THE FLOAT VALUE OF THE GIVEN INT IS: 25.0\n",
      "THE COMPLEX VALUE OF THE GIVEN INT IS: (25+0j)\n"
     ]
    }
   ],
   "source": [
    "a=int(input('VALUE OF a IS: ')) #converting of float to int\n",
    "b=float(a)\n",
    "c=complex(a)\n",
    "print('THE FLOAT VALUE OF THE GIVEN INT IS:%f '%(b))\n",
    "print('THE FLOAT VALUE OF THE GIVEN INT IS: {} '.format(b))\n",
    "print(f'THE FLOAT VALUE OF THE GIVEN INT IS: {b}')\n",
    "print('THE COMPLEX VALUE OF THE GIVEN INT IS:',c)"
   ]
  },
  {
   "cell_type": "markdown",
   "id": "740c703d",
   "metadata": {},
   "source": [
    "# 12.Write a Program to perform addition of two complex numbers and display"
   ]
  },
  {
   "cell_type": "code",
   "execution_count": 20,
   "id": "7962123b",
   "metadata": {},
   "outputs": [
    {
     "name": "stdout",
     "output_type": "stream",
     "text": [
      "COMPLEX VALUE OF a IS: 54\n",
      "COMPLEX VALUE OF b IS: 2\n",
      "THE SUM OF COMPLEX NUMBERS a AND b IS:  (56+0j)\n"
     ]
    }
   ],
   "source": [
    "#addition of two complex numbers\n",
    "a=complex(input('COMPLEX VALUE OF a IS: '))\n",
    "b=complex(input('COMPLEX VALUE OF b IS: '))\n",
    "c=a+b\n",
    "print('THE SUM OF COMPLEX NUMBERS a AND b IS: ',c)"
   ]
  },
  {
   "cell_type": "markdown",
   "id": "5c93e5e9",
   "metadata": {},
   "source": [
    "# 13. Write a Program to perform addition of float numbers with 4 decimals and display as integer."
   ]
  },
  {
   "cell_type": "code",
   "execution_count": 22,
   "id": "eeed6897",
   "metadata": {},
   "outputs": [
    {
     "name": "stdout",
     "output_type": "stream",
     "text": [
      "Enter the value of a: 1.36\n",
      "Enter the value of b: 2.36\n",
      "THE SUM OF FLOAT NUMBERS 1.360000 AND 2.360000 IS: 3\n",
      "THE SUM OF FLOAT NUMBERS1.36 AND 2.36:3\n",
      "THE SUM OF FLOAT NUMBER a AND b is:3\n"
     ]
    }
   ],
   "source": [
    "a=float(input('Enter the value of a: '))\n",
    "b=float(input('Enter the value of b: '))\n",
    "c=int(a+b)\n",
    "print('THE SUM OF FLOAT NUMBERS %f AND %f IS: %i'%(a,b,c))\n",
    "print('THE SUM OF FLOAT NUMBERS{} AND {}:{}'.format(a,b,c))\n",
    "print(f'THE SUM OF FLOAT NUMBER a AND b is:{c}')"
   ]
  },
  {
   "cell_type": "markdown",
   "id": "c039e8e7",
   "metadata": {},
   "source": [
    "# 14. Write a Program to find simple interest by the user input data"
   ]
  },
  {
   "cell_type": "code",
   "execution_count": 24,
   "id": "41f8488a",
   "metadata": {},
   "outputs": [
    {
     "name": "stdout",
     "output_type": "stream",
     "text": [
      "Principal amount:1000\n",
      "Rate of intrest per annum in percentage:6\n",
      "Time taken in years:5\n",
      "Simple intrest is:300.000000 \n",
      "Simple intrest is : 300.0 \n",
      "Simple intrest is : 300.0\n"
     ]
    }
   ],
   "source": [
    "#Simple interest calculator\n",
    "a=float(input('Principal amount:')) #PRINCIPAL value\n",
    "b=float(input('Rate of intrest per annum in percentage:')) #Rate of interest\n",
    "c=float(input('Time taken in years:')) #time taken in years\n",
    "d=100\n",
    "e=(a*b*c)/100 #formula\n",
    "print('Simple intrest is:%f '%(e))\n",
    "print('Simple intrest is : {} '.format(e))\n",
    "print(f'Simple intrest is : {e}')"
   ]
  },
  {
   "cell_type": "markdown",
   "id": "4d8a59ba",
   "metadata": {},
   "source": [
    "# 15. Write a Program to find compound interest by the user input data."
   ]
  },
  {
   "cell_type": "code",
   "execution_count": 25,
   "id": "b49fd9e9",
   "metadata": {},
   "outputs": [
    {
     "name": "stdout",
     "output_type": "stream",
     "text": [
      "Principal amount:1000\n",
      "Rate of intrest per annum:3\n",
      "Number of time interest compounded per year:2\n",
      "Time taken in years:1\n",
      "Compound Interest is:6250 \n",
      "Compound intrest is : 6250.0 \n",
      "Compound intrest is : 6250.0\n"
     ]
    }
   ],
   "source": [
    "#Compound interest calculator\n",
    "a=float(input('Principal amount:'))\n",
    "b=float(input('Rate of intrest per annum:'))\n",
    "c=float(input('Number of time interest compounded per year:'))\n",
    "d=float(input('Time taken in years:'))\n",
    "e=a*(1+b/c)**(c*d)\n",
    "print('Compound Interest is:%d '%(e))\n",
    "print('Compound intrest is : {} '.format(e))\n",
    "print(f'Compound intrest is : {e}')"
   ]
  },
  {
   "cell_type": "markdown",
   "id": "4f878b3e",
   "metadata": {},
   "source": [
    "# 16. Write a Program to find area of                                                                        (i) Rectangle (ii) Triangle and (iii) Circle by the user input values."
   ]
  },
  {
   "cell_type": "code",
   "execution_count": 26,
   "id": "5ee8e6a3",
   "metadata": {},
   "outputs": [
    {
     "name": "stdout",
     "output_type": "stream",
     "text": [
      "LENGTH OF THE SIDE: 2\n",
      "WIDHT OF THE SIDE: 5\n",
      "AREA OF RECTANGLE:10 \n",
      "BASE OF THE TRIANGLE: 4\n",
      "HEIGHT OF THE TRIANGLE: 3\n",
      "AREA OF TRIANGLE:10 \n",
      "RADIUS OF CIRCLE: 1\n",
      "AREA OF CIRCLE: 3\n",
      "AREA OF CIRCLE : 3.14 \n",
      "AREA OF CIRCLE is : 3.14\n"
     ]
    }
   ],
   "source": [
    "#AREA OF RECTANGLE\n",
    "a=float(input('LENGTH OF THE SIDE: '))\n",
    "b=float(input('WIDHT OF THE SIDE: '))\n",
    "c=a*b\n",
    "print('AREA OF RECTANGLE:%d '%(c))\n",
    "#AREA OF TRIANGLE\n",
    "a=float(input('BASE OF THE TRIANGLE: '))\n",
    "b=float(input('HEIGHT OF THE TRIANGLE: '))\n",
    "C=0.5*(a*b)\n",
    "print('AREA OF TRIANGLE:%d '%(c))\n",
    "#AREA OF CIRCLE\n",
    "a=3.14\n",
    "b=float(input('RADIUS OF CIRCLE: '))\n",
    "d=b**2\n",
    "c=d*a\n",
    "print('AREA OF CIRCLE: %d'%(c))\n",
    "print('AREA OF CIRCLE : {} '.format(c))\n",
    "print(f'AREA OF CIRCLE is : {c}')"
   ]
  },
  {
   "cell_type": "markdown",
   "id": "56499933",
   "metadata": {},
   "source": [
    "# 17. Write a Program to compute the polynomial equation of 2nd and 3rd degree by the user input values"
   ]
  },
  {
   "cell_type": "code",
   "execution_count": 27,
   "id": "3f746600",
   "metadata": {},
   "outputs": [
    {
     "name": "stdout",
     "output_type": "stream",
     "text": [
      "Value of a: 2\n",
      "Value of b: 5\n",
      "Value of c: 4\n",
      "Value of x: 3\n",
      "SECOND DEGREE : 37\n",
      "Value of a: 8\n",
      "Value of b: 6\n",
      "Value of c: 32\n",
      "Value of e: 2\n",
      "Value of x: 1\n",
      "THIRD DEGREE : 48\n",
      "THIRD DEGREE : 48\n",
      "THIRD DEGREE : 48\n"
     ]
    }
   ],
   "source": [
    "#Polynomial equation of second degree\n",
    "a=int(input('Value of a: '))\n",
    "b=int(input('Value of b: '))\n",
    "c=int(input('Value of c: '))\n",
    "x=int(input('Value of x: '))\n",
    "d= a*x**2+b*x+c\n",
    "print('SECOND DEGREE : %d'%(d))\n",
    "#Polynomial equation of third degree\n",
    "a=int(input('Value of a: '))\n",
    "b=int(input('Value of b: '))\n",
    "c=int(input('Value of c: '))\n",
    "e=int(input('Value of e: '))\n",
    "x=int(input('Value of x: '))\n",
    "d= a*x**3+b*x**2+c*x+e\n",
    "print('THIRD DEGREE : %d'%(d))\n",
    "print('THIRD DEGREE : {}'.format(d))\n",
    "print(f'THIRD DEGREE : {d}')"
   ]
  },
  {
   "cell_type": "markdown",
   "id": "90294837",
   "metadata": {},
   "source": [
    "# 18.Write a Program to take the user input as string and print as (a) int (b) float (c)complex."
   ]
  },
  {
   "cell_type": "code",
   "execution_count": 28,
   "id": "7a30f45f",
   "metadata": {},
   "outputs": [
    {
     "name": "stdout",
     "output_type": "stream",
     "text": [
      "Enter the number: 5\n",
      "Int: 5\n",
      "Int: 5\n",
      "Int: 5\n",
      "Str in float: 5.000000\n",
      "Float: 5\n",
      "Float: 5\n",
      "Str in complex:  (5+0j)\n"
     ]
    }
   ],
   "source": [
    "a=input('Enter the number: ') #TAKING INPUT\n",
    "b=int(a) #converting a into int\n",
    "c=float(a) #converting a into float\n",
    "d=complex(a) #converting a into complex\n",
    "print('Int: %d'%(b))\n",
    "print('Int: {}'.format(b))\n",
    "print(f'Int: {b}')\n",
    "print('Str in float: %f'%(c))\n",
    "print('Float: {}'.format(b))\n",
    "print(f'Float: {b}')\n",
    "print('Str in complex: ',d)"
   ]
  },
  {
   "cell_type": "markdown",
   "id": "9365bb9c",
   "metadata": {},
   "source": [
    "# 19. Write a Program to take the user input as integer number and convert and display in (a) binary (b) octal (c)Hexadecimal."
   ]
  },
  {
   "cell_type": "code",
   "execution_count": 30,
   "id": "9631786e",
   "metadata": {},
   "outputs": [
    {
     "name": "stdout",
     "output_type": "stream",
     "text": [
      "Give an input number: 9\n",
      "The binary of %d is: 0b1001\n",
      "The binary of 0b1001 is: \n",
      "The binary of 9 is: 0b1001\n",
      "IN OCTAL:0o11\n",
      "IN HEXADECIMAL:0x9\n"
     ]
    }
   ],
   "source": [
    "a = int(input('Give an input number: ')) #taking input\n",
    "b=bin(a)\n",
    "print('The binary of %d is:',b)\n",
    "print('The binary of {} is: '.format(b))\n",
    "print(f'The binary of {a} is: {b}')\n",
    "print('IN OCTAL:0o%o'%a)\n",
    "print('IN HEXADECIMAL:0x%x'%a)"
   ]
  },
  {
   "cell_type": "markdown",
   "id": "0e32fb70",
   "metadata": {},
   "source": [
    "# 20. Evaluate the below conditional statements for a = 87, b=65, c=99 using relational operators : a. a>b b. b> c c. c>a d. a<b<c. e.a>=b! =c  f. a==a  g. a!=b  h. a<=c>=b"
   ]
  },
  {
   "cell_type": "code",
   "execution_count": 31,
   "id": "7b255996",
   "metadata": {},
   "outputs": [
    {
     "name": "stdout",
     "output_type": "stream",
     "text": [
      "RELATIVE OPERATOR FOR 87>65: 1.000000\n",
      "RELATIVE OPERATOR FOR 87>65: True\n",
      "RELATIVE OPERATOR FOR 87>65: True\n",
      "RELATIVE OPERATOR FOR b>c:  False\n",
      "RELATIVE OPERATOR FOR 99>87: True\n",
      "RELATIVE OPERATOR FOR 87<65<99: False \n",
      "RELATIVE OPERATOR FOR 87>=65!=99: True \n",
      "RELATIVE OPERATOR FOR 87==87: True\n",
      "RELATIVE OPERATOR FOR 87!=65: True \n",
      "RELATIVE OPERATOR FOR 87<=65>=99: True\n"
     ]
    }
   ],
   "source": [
    "a=87\n",
    "b=65\n",
    "c=99\n",
    "print('RELATIVE OPERATOR FOR %d>%d: %f'%(a,b,a>b))#RELATIVE OPERATOR FOR a>b\n",
    "print('RELATIVE OPERATOR FOR {}>{}: {}'.format(a,b,a>b))\n",
    "print(f'RELATIVE OPERATOR FOR {a}>{b}: {a>b}')\n",
    "print('RELATIVE OPERATOR FOR b>c: ',b>c) #RELATIVE OPERATOR FOR b>c \n",
    "print('RELATIVE OPERATOR FOR %d>%d: %s'%(c,a,c>a)) #RELATIVE OPERATOR FOR c>a\n",
    "print('RELATIVE OPERATOR FOR %d<%d<%d: %s '%(a,b,c,a<b<c)) #RELATIVE OPERATOR FOR a<b<c\n",
    "print('RELATIVE OPERATOR FOR %d>=%d!=%d: %s '%(a,b,c,a>=b!=c)) #RELATIVE OPERATOR FOR a>=b!=c\n",
    "print('RELATIVE OPERATOR FOR %d==%d: %s'%(a,a,a==a)) #RELATIVE OPERATOR FOR a==a\n",
    "print('RELATIVE OPERATOR FOR %d!=%d: %s '%(a,b,a!=b)) #RELATIVE OPERATOR FOR a!=b\n",
    "print('RELATIVE OPERATOR FOR %d<=%d>=%d: %s'%(a,b,c,a<=c>=b)) #RELATIVE OPERATOR FOR a<=c>=b"
   ]
  },
  {
   "cell_type": "markdown",
   "id": "5cdc0b63",
   "metadata": {},
   "source": [
    "# 21. Evaluate the below conditional statements using (a) Logical and (b) logical or (c) logical not operators i. a = 0 , b=5 ii. c = 2 , d=10 iii. e = 105 , f =0 "
   ]
  },
  {
   "cell_type": "code",
   "execution_count": 50,
   "id": "f3a94ba9",
   "metadata": {},
   "outputs": [
    {
     "name": "stdout",
     "output_type": "stream",
     "text": [
      "For 0 and 5 is: 0\n",
      "For 0 and 5 is: 0\n",
      "For 0 and 5 is:0\n",
      "For 0 or 5 is: 5\n",
      "For not 0: True\n",
      "For 2 and 10 is:10\n",
      "For 2 or 10 is : 2\n",
      "For not 2 is: False\n",
      "For 105 and 0 is:0\n",
      "For 105 or 0 is : 105\n",
      "For not 105 is: False\n"
     ]
    }
   ],
   "source": [
    "a=0 \n",
    "b=5\n",
    "print('For %d and %d is: %i'%(a,b,a and b)) #logical and : if a is false it returns a otherwise it returns b\n",
    "print('For {} and {} is: {}'.format(a,b,a and b))\n",
    "print(f'For {a} and {b} is:{a and b}')\n",
    "print('For %d or %d is: %i'%(a,b,a or b))  #logical or : if a is false it returns b otherwise it returns a\n",
    "print('For not %d: %s'%(a, not a)) #logical not: if a is false it returns true otherwise it returns false\n",
    "c=2\n",
    "d=10\n",
    "print('For %d and %d is:%i'%(c,d,c and d))  #logical and : if c is false it returns a otherwise it returns d\n",
    "print('For %d or %d is : %i'%(c,d,c or d))  #logical or : if c is false it returns b otherwise it returns d\n",
    "print('For not %d is: %s'%(c,not c)) #logical not: if c is false it returns true otherwise it returns false\n",
    "e=105\n",
    "f=0\n",
    "print('For %d and %d is:%i'%(e,f,e and f))  #logical and : if e is false it returns a otherwise it returns f\n",
    "print('For %d or %d is : %i'%(e,f,e or f)) #logical or : if e is false it returns b otherwise it returns f\n",
    "print('For not %d is: %s'%(e,not e)) #logical not: if e is false it returns true otherwise it returns false"
   ]
  },
  {
   "cell_type": "markdown",
   "id": "a78c6f78",
   "metadata": {},
   "source": [
    "# 22.Write a program to take the three float numbers as user input and evaluate for the below conditions and display the result. a. x>y and y>z b. x>y or y>z c. x<y and y<z. d. x<y or y<z. e. not x f. not y g. not z h. x >= y and y<=z or x==y"
   ]
  },
  {
   "cell_type": "code",
   "execution_count": 37,
   "id": "36ff17d0",
   "metadata": {},
   "outputs": [
    {
     "name": "stdout",
     "output_type": "stream",
     "text": [
      "Enter the value: 1\n",
      "Enter the value: 2\n",
      "Enter the value: 3\n",
      "1>2 and 2>3 : False\n",
      "1>2 and 2>3 :False\n",
      "1>2 and 2>3: False\n",
      "1>2 or 2>3 :False \n",
      "1<2 and 2<3 :True \n",
      "1<2 or 2<3 :True \n",
      "not 1 :False \n",
      "not 2 :False \n",
      "not 3 : False\n",
      "1>=2 2<=3 or 1==2 :False \n"
     ]
    }
   ],
   "source": [
    "x=int(input('Enter the value: ')) #x input \n",
    "y=int(input('Enter the value: ')) #y input\n",
    "z=int(input('Enter the value: ')) #z input\n",
    "print('%d>%d and %d>%d : %s'%(x,y,y,z,x>y and y>z)) #x>y and y>z\n",
    "print('{}>{} and {}>{} :{}'.format(x,y,y,z,x>y and y>z))\n",
    "print(f'{x}>{y} and {y}>{z}: {x>y and y>z}')\n",
    "print('%d>%d or %d>%d :%s '%(x,y,y,z,x>y or y>z))#x>y or y>z\n",
    "print('%d<%d and %d<%d :%s '%(x,y,y,z,x<y and y<z))#x>y and y>z\n",
    "print('%d<%d or %d<%d :%s '%(x,y,y,z,x<y or y<z))#x<y or y<z\n",
    "print('not %d :%s '%(x,not x))#not x\n",
    "print('not %d :%s '%(y,not y))#not y\n",
    "print('not %d : %s'%(z,not z))#not z\n",
    "print('%d>=%d %d<=%d or %d==%d :%s '%(x,y,y,z,x,y,x>=y and y<=z or x==y)) #x>=y and y<=z or x==y"
   ]
  },
  {
   "cell_type": "markdown",
   "id": "3e47e09f",
   "metadata": {},
   "source": [
    "# 23.Perform all Bitwise operations and print the results in both binary and decimal number systems. (i) For a = 15, b =125 (ii) For a = 177, b = 255"
   ]
  },
  {
   "cell_type": "code",
   "execution_count": 40,
   "id": "b4158ad0",
   "metadata": {},
   "outputs": [
    {
     "name": "stdout",
     "output_type": "stream",
     "text": [
      "Binary of a=  0b1111\n",
      "binary of b=  0b1111101\n",
      "15 & 125: 13\n",
      "15 & 125: 13 \n",
      "15 & 125: 13\n",
      "In binary:  0b1101\n",
      "15|125:127 \n",
      "In binary:  0b1111111\n",
      "15<<2: 60\n",
      "In binary:  0b111100\n",
      "15>>2: 3\n",
      "In binary:  0b11\n",
      "~15: -16\n",
      "In binary:  -0b10000\n",
      "15^125: 114 \n",
      "In binary:  0b1110010\n"
     ]
    }
   ],
   "source": [
    "a=15\n",
    "b=125\n",
    "print('Binary of a= ',bin(a)) #Binary of a\n",
    "print('binary of b= ',bin(b)) #Binary of b\n",
    "print('%d & %d: %i'%(a,b,a&b)) #a&b,bin(a&b)\n",
    "print('{} & {}: {} '.format(a,b,a&b))\n",
    "print(f'{a} & {b}: {a&b}')\n",
    "print('In binary: ',bin(a&b))\n",
    "print('%d|%d:%s '%(a,b,a|b))  #a|b,bin(a|b)\n",
    "print('In binary: ',bin(a|b))\n",
    "print('%d<<2: %s'%(a,a<<2)) #a<<2,bin(a<<2)\n",
    "print('In binary: ',bin(a<<2))\n",
    "print('%d>>2: %s'%(a,a>>2)) #a>>2,bin(a>>2)\n",
    "print('In binary: ',bin(a>>2))\n",
    "print('~%d: %s'%(a,~a)) #~a,bin(~a)\n",
    "print('In binary: ',bin(~a))\n",
    "print('%d^%d: %s '%(a,b,a^b)) #bin(a^b)\n",
    "print('In binary: ',bin(a^b))"
   ]
  },
  {
   "cell_type": "markdown",
   "id": "d963729c",
   "metadata": {},
   "source": [
    "# 24.Evaluate the below expression and list the sequence of operations based on the precedence and associativity of operators. Input : a=2, b=4 and c=3. ((b*c)**a+ c/(b-a))"
   ]
  },
  {
   "cell_type": "code",
   "execution_count": 49,
   "id": "cb7473fb",
   "metadata": {},
   "outputs": [
    {
     "name": "stdout",
     "output_type": "stream",
     "text": [
      "step-1: 12\n",
      "Step-2: 2\n",
      "Step-3: 144\n",
      "Step-4: 1.5\n",
      "Step-5: 145.5\n",
      "The Answer is:  145.5\n"
     ]
    }
   ],
   "source": [
    "a=2\n",
    "b=4\n",
    "c=3\n",
    "d=((b*c)**a+ c/(b-a))\n",
    "#The preecedence and associativity\n",
    "#(b*c)\n",
    "#(b-a)\n",
    "#(b*c)**a\n",
    "#c/(b-a)\n",
    "#(b*c)**a + c/(b-a)\n",
    "print('step-1:',b*c)\n",
    "print('Step-2:',b-a)\n",
    "print('Step-3:',(b*c)**a)\n",
    "print('Step-4:',c/(b-a))\n",
    "print('Step-5:',(b*c)**a + c/(b-a))\n",
    "print('The Answer is: ',d)"
   ]
  },
  {
   "cell_type": "markdown",
   "id": "20204cab",
   "metadata": {},
   "source": [
    "# 25. .Evaluate the below expression and list the the priority of operations based on the precedence and associativity. Input : a=2, b=3 and c=5, Expected output = 1  (((a/b*c)**a+ c%a//b+b-a/b)//b**a)"
   ]
  },
  {
   "cell_type": "code",
   "execution_count": 55,
   "id": "29073d47",
   "metadata": {},
   "outputs": [
    {
     "name": "stdout",
     "output_type": "stream",
     "text": [
      "Step-1: 3.333333333333333\n",
      "Step-2: 11.111111111111109\n",
      "Step-3: 0.6666666666666666\n",
      "Step-4: 0\n",
      "Step-5: 0\n",
      "Step-6: 11.111111111111109\n",
      "Step-7: 3\n",
      "Step-8: 2.3333333333333335\n",
      "Step-9: 9\n",
      "Step-10: 3.0\n",
      "The answer is:  1.0\n"
     ]
    }
   ],
   "source": [
    "a=2\n",
    "b=3 \n",
    "c=5\n",
    "d=(((a/b*c)**a+ c%a//b+b-a/b)//b**a)\n",
    "#(a/b*c) #b*c #a/b*c\n",
    "#(a/b*c)**a\n",
    "#a/b\n",
    "#a//b\n",
    "#c%a//b\n",
    "#(a/b*c)**a+c%a//b\n",
    "#c%a//b+b\n",
    "#b-a/b\n",
    "#b**a\n",
    "#b-a/b//b**a\n",
    "print('Step-1:',(a/b*c))\n",
    "print('Step-2:',((a/b*c)**a))\n",
    "print('Step-3:',a/b)\n",
    "print('Step-4:',a//b)\n",
    "print('Step-5:',c%a//b)\n",
    "print('Step-6:',((a/b*c)**a+c%a//b))\n",
    "print('Step-7:',c%a//b+b)\n",
    "print('Step-8:',b-a/b)\n",
    "print('Step-9:',b**a)\n",
    "print('Step-10:',(b-a/b//b**a))\n",
    "print('The answer is: ',d)"
   ]
  }
 ],
 "metadata": {
  "kernelspec": {
   "display_name": "Python 3 (ipykernel)",
   "language": "python",
   "name": "python3"
  },
  "language_info": {
   "codemirror_mode": {
    "name": "ipython",
    "version": 3
   },
   "file_extension": ".py",
   "mimetype": "text/x-python",
   "name": "python",
   "nbconvert_exporter": "python",
   "pygments_lexer": "ipython3",
   "version": "3.11.5"
  }
 },
 "nbformat": 4,
 "nbformat_minor": 5
}
